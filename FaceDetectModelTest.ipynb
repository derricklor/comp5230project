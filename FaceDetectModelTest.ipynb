{
 "cells": [
  {
   "cell_type": "markdown",
   "id": "2000ba2e",
   "metadata": {},
   "source": [
    "<h1> Debug and Testing"
   ]
  },
  {
   "cell_type": "code",
   "execution_count": null,
   "id": "13cc8f6f",
   "metadata": {},
   "outputs": [],
   "source": [
    "import cv2\n",
    "from ultralytics import YOLO\n",
    "import os\n",
    "import numpy as np\n",
    "import hog as hg\n",
    "import faceAlign as face\n",
    "import time"
   ]
  },
  {
   "cell_type": "code",
   "execution_count": null,
   "id": "526a594b",
   "metadata": {},
   "outputs": [],
   "source": [
    "\n",
    "# Load the YOLO11 model\n",
    "model = YOLO(\"yolo11n_FaceDetectModel_MD20.pt\")\n",
    "\n",
    "# Predict with the model\n",
    "path_to_file = [\n",
    "    r\"C:\\Users\\Derrick\\Documents\\School\\Computer Vision\\project\\datasets\\FaceDetect-5\\test\\images\\090106_jpg.rf.4a0cc1fdc5892c40a56b354f46fa52f9.jpg\"\n",
    "    ,r\"C:\\Users\\Derrick\\Documents\\School\\Computer Vision\\project\\datasets\\Faces\\test\\images\\1-318-_jpg.rf.47778bbd5a1c99b51e71d36469cc9b0b.jpg\"\n",
    "    ,r\"C:\\Users\\Derrick\\Documents\\School\\Computer Vision\\project\\known_faces\\whitelist\\face\\1-5397-_jpg.rf.f204ae03413966477bdd2211e41fff05.jpg\"\n",
    "    ,r\"C:\\Users\\Derrick\\Documents\\School\\Computer Vision\\project\\known_faces\\whitelist\\face\\im.jpg\"\n",
    "]\n",
    "\n",
    "results = model.predict(path_to_file[2], save=False, conf=0.7)\n",
    "print(results[0].boxes)"
   ]
  },
  {
   "cell_type": "code",
   "execution_count": null,
   "id": "70560edd",
   "metadata": {},
   "outputs": [],
   "source": [
    "print(results[0].boxes.xywh[0])\n",
    "xywh = results[0].boxes.xywh\n",
    "x, y, w, h = map(int, results[0].boxes.xywh[0])\n",
    "print(xywh)\n",
    "print(x)\n",
    "print(int(x))\n",
    "print(y)"
   ]
  },
  {
   "cell_type": "code",
   "execution_count": null,
   "id": "4edeff88",
   "metadata": {},
   "outputs": [],
   "source": [
    "results[0].save_crop(r\"C:\\Users\\Derrick\\Documents\\School\\Computer Vision\\project\\known_faces\\whitelist\")"
   ]
  },
  {
   "cell_type": "markdown",
   "id": "8604e207",
   "metadata": {},
   "source": [
    "<h1> debug and test hogs"
   ]
  },
  {
   "cell_type": "code",
   "execution_count": null,
   "id": "eab2c886",
   "metadata": {},
   "outputs": [],
   "source": [
    "# load model and compute hogs\n",
    "model = YOLO(\"yolo11n_FaceDetectModel_MD20.pt\")\n",
    "\n",
    "# Predict with the model\n",
    "#path_to_file = Path(r\"C:\\Users\\Derrick\\Documents\\School\\Computer Vision\\project\\datasets\\FaceDetect-5\\test\\images\\090106_jpg.rf.4a0cc1fdc5892c40a56b354f46fa52f9.jpg\") # os.path.join(r'C:\\Users\\Derrick\\Pictures\\3-21-18 and older\\IMG_1570.JPG')\n",
    "path_to_file = r\"C:\\Users\\Derrick\\Documents\\School\\Computer Vision\\project\\datasets\\Faces\\test\\images\\1-149-_jpg.rf.580aca4f24aac78be8d63ea72cd457b6.jpg\"\n",
    "#path_to_file = Path(r\"C:\\Users\\Derrick\\Documents\\School\\Computer Vision\\project\\known_faces\\whitelist\\face\\im.jpg\")\n",
    "\n",
    "results = model.predict(path_to_file, save=False, conf=0.7)\n",
    "print(results[0].boxes)"
   ]
  },
  {
   "cell_type": "code",
   "execution_count": null,
   "id": "c0f16685",
   "metadata": {},
   "outputs": [],
   "source": [
    "import hog as hg\n",
    "hog1, hog_vis = hg.calculate_hog_from_path(r\"C:\\Users\\Derrick\\Documents\\School\\Computer Vision\\project\\known_faces\\whitelist\\face\\Josh.jpg\")\n",
    "print(hog1)\n",
    "print(len(hog1))\n",
    "hog2, hog_vis2 = hg.calculate_hog_from_path(r\"C:\\Users\\Derrick\\Documents\\School\\Computer Vision\\project\\known_faces\\whitelist\\face\\Tim.jpg\")\n",
    "print(hog2)\n",
    "\n",
    "dis = hg.compare_hog_features(hog1, hog2, 'cosine') # 'euclidean', 'cosine', or 'correlation'\n",
    "print(dis)\n",
    "\n",
    "# cv2.imshow(\"HOG Visualization 1\", hog_vis) # Removed the cv2.imshow.\n",
    "\n",
    "# cv2.imshow(\"HOG Visualization 2\", hog_visualization2) # These would cause errors if running\n",
    "# print(\"HOG visualizations are not displayed.  Code uses skimage, not cv2, for HOG.\") # Keep it simple and just print a message\n",
    "# cv2.waitKey(0)\n",
    "# cv2.destroyAllWindows()"
   ]
  },
  {
   "cell_type": "markdown",
   "id": "49316830",
   "metadata": {},
   "source": [
    "<h1> test loading hogs from file paths"
   ]
  },
  {
   "cell_type": "code",
   "execution_count": null,
   "id": "fffa0e65",
   "metadata": {},
   "outputs": [],
   "source": [
    "\n",
    "def reload_known_faces_list(path):\n",
    "    hog_list = []\n",
    "    name_list = []\n",
    "    # check if path exists, if not then make path\n",
    "    if not os.path.exists(path):\n",
    "        print(f\"Path {path} does not exist, creating path now\")\n",
    "        os.makedirs(path)\n",
    "\n",
    "    # create encoding and name from files in the path\n",
    "    for filename in os.listdir(path):\n",
    "        if filename.endswith(('.jpg', '.png')):\n",
    "            image_path = os.path.join(path, filename)\n",
    "            image_hog, _ = hg.calculate_hog_from_path(image_path) # dont need visualizations\n",
    "\n",
    "            #face_enc = face_recognition.face_encodings(image)\n",
    "            \n",
    "            hog_list.append(image_hog)\n",
    "            name = os.path.splitext(filename)[0]\n",
    "            name_list.append(name)\n",
    "            \n",
    "    return hog_list, name_list\n",
    "\n",
    "\n",
    "\n",
    "whitelist_path = r\"C:\\Users\\Derrick\\Documents\\School\\Computer Vision\\project\\known_faces\\whitelist\"\n",
    "blacklist_path = r\"C:\\Users\\Derrick\\Documents\\School\\Computer Vision\\project\\known_faces\\blacklist\"\n",
    "\n",
    "# initialize face library, apppend \"face\" class folder\n",
    "whitelist_hogs, whitelist_names = reload_known_faces_list(whitelist_path + r\"\\face\")\n",
    "blacklist_hogs, blacklist_names = reload_known_faces_list(blacklist_path + r\"\\face\")"
   ]
  },
  {
   "cell_type": "code",
   "execution_count": null,
   "id": "46868081",
   "metadata": {},
   "outputs": [],
   "source": [
    "print(len(whitelist_hogs[5]))\n",
    "print(whitelist_names)\n",
    "print(len(blacklist_hogs[0]))\n",
    "print(blacklist_names)"
   ]
  },
  {
   "cell_type": "markdown",
   "id": "6d2aa097",
   "metadata": {},
   "source": [
    "<h1> test loading images an doing face align and hogs"
   ]
  },
  {
   "cell_type": "code",
   "execution_count": null,
   "id": "c3633456",
   "metadata": {},
   "outputs": [],
   "source": [
    "import cv2\n",
    "from ultralytics import YOLO\n",
    "import numpy as np\n",
    "import os\n",
    "import time\n",
    "import hog as hg\n",
    "import faceAlign as face\n",
    "\n",
    "def reload_known_faces_list(path):\n",
    "    hog_list = []\n",
    "    name_list = []\n",
    "    # check if path exists, if not then make path\n",
    "    if not os.path.exists(path):\n",
    "        print(f\"Path {path} does not exist, creating path now\")\n",
    "        os.makedirs(path)\n",
    "    start_time = time.time()\n",
    "    # create encoding and name from files in the path\n",
    "    for filename in os.listdir(path):\n",
    "        if filename.endswith(('.jpg', '.png')):\n",
    "            image_path = os.path.join(path, filename)\n",
    "\n",
    "            # align face from path\n",
    "            face_frame = face.align_face_from_file(image_path)\n",
    "\n",
    "            # calculate hog of aligned face frame\n",
    "            image_hog, _ = hg.calculate_hog_from_face_frame(face_frame) # dont need visualizations\n",
    "\n",
    "            hog_list.append(image_hog)\n",
    "            name = os.path.splitext(filename)[0]\n",
    "            name_list.append(name)\n",
    "            \n",
    "    end_time = time.time()\n",
    "    print(f'Elapsed time: {end_time - start_time}')\n",
    "    return hog_list, name_list\n",
    "\n",
    "whitelist_path = r\"C:\\Users\\Derrick\\Documents\\School\\Computer Vision\\project\\known_faces\\whitelist\"\n",
    "blacklist_path = r\"C:\\Users\\Derrick\\Documents\\School\\Computer Vision\\project\\known_faces\\blacklist\"\n",
    "\n",
    "# initialize face library, apppend \"face\" class folder\n",
    "whitelist_hogs, whitelist_names = reload_known_faces_list(whitelist_path + r\"\\face\")\n",
    "blacklist_hogs, blacklist_names = reload_known_faces_list(blacklist_path + r\"\\face\")"
   ]
  },
  {
   "cell_type": "markdown",
   "id": "8d0ebf12",
   "metadata": {},
   "source": [
    "<h1> testing face align on single image"
   ]
  },
  {
   "cell_type": "code",
   "execution_count": null,
   "id": "269506af",
   "metadata": {},
   "outputs": [],
   "source": [
    "from ultralytics import YOLO\n",
    "import numpy as np\n",
    "import cv2\n",
    "\n",
    "model = YOLO(\"yolo11n_FaceDetectModel_MD20.pt\")\n",
    "\n",
    "# Predict with the model\n",
    "#path_to_file = Path(r\"C:\\Users\\Derrick\\Documents\\School\\Computer Vision\\project\\datasets\\FaceDetect-5\\test\\images\\090106_jpg.rf.4a0cc1fdc5892c40a56b354f46fa52f9.jpg\") # os.path.join(r'C:\\Users\\Derrick\\Pictures\\3-21-18 and older\\IMG_1570.JPG')\n",
    "path_to_file = r\"C:\\Users\\Derrick\\Documents\\School\\Computer Vision\\project\\known_faces\\whitelist\\face\\whitelist_2.jpg\"\n",
    "#path_to_file = Path(r\"C:\\Users\\Derrick\\Documents\\School\\Computer Vision\\project\\known_faces\\whitelist\\face\\im.jpg\")\n",
    "\n",
    "frame = cv2.imread(path_to_file)\n",
    "\n",
    "results = model.predict(frame, save=False, conf=0.7)\n",
    "print(results[0].boxes)\n",
    "# put frame through face aligner\n",
    "face_frame = face.align_face_from_frame(frame)\n",
    "\n",
    "# calculate single hog from frame\n",
    "frame_hog, _ = hg.calculate_hog_from_face_frame(face_frame) # dont need visualizations\n",
    "# reset variables\n",
    "whitelist_dist = []\n",
    "blacklist_dist = []\n",
    "name = \"unknown\""
   ]
  },
  {
   "cell_type": "code",
   "execution_count": null,
   "id": "28c53755",
   "metadata": {},
   "outputs": [],
   "source": [
    "print(face_frame)\n",
    "print(frame_hog)\n",
    "cv2.imshow(\"Aligned Face\", face_frame)\n",
    "cv2.waitKey(0)\n",
    "cv2.destroyAllWindows()"
   ]
  }
 ],
 "metadata": {
  "kernelspec": {
   "display_name": "Python 3",
   "language": "python",
   "name": "python3"
  },
  "language_info": {
   "name": "python",
   "version": "3.10.6"
  }
 },
 "nbformat": 4,
 "nbformat_minor": 5
}
